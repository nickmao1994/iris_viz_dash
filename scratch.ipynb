{
 "cells": [
  {
   "cell_type": "code",
   "execution_count": null,
   "id": "fedf00f1-c2f7-47a2-a7f4-f01cd3fa1761",
   "metadata": {},
   "outputs": [],
   "source": [
    "import altair as alt\n",
    "from dash import Dash, html\n",
    "from dash import dcc\n",
    "from vega_datasets import data"
   ]
  },
  {
   "cell_type": "code",
   "execution_count": null,
   "id": "6c6d7505-0f50-4adf-902d-c4d215131093",
   "metadata": {},
   "outputs": [],
   "source": [
    "iris = data.iris()\n",
    "iris"
   ]
  },
  {
   "cell_type": "code",
   "execution_count": null,
   "id": "3668e95e-6a85-4f37-8dc3-0fa4cbb9b085",
   "metadata": {},
   "outputs": [],
   "source": [
    "chart = alt.Chart(iris).mark_point().encode(\n",
    "    x = 'sepalLength',\n",
    "    y = 'sepalWidth')\n",
    "\n",
    "app = Dash(__name__)\n",
    "app.layout = html.Div([\n",
    "        html.Iframe(\n",
    "            srcDoc=chart.to_html(),\n",
    "            style={'border-width': '0', 'width': '100%', 'height': '400px'})])\n",
    "\n",
    "if __name__ == '__main__':\n",
    "    app.run_server(debug=False)"
   ]
  },
  {
   "cell_type": "code",
   "execution_count": null,
   "id": "3e9988aa-d1af-45b0-884d-0db944316a8f",
   "metadata": {},
   "outputs": [],
   "source": []
  }
 ],
 "metadata": {
  "kernelspec": {
   "display_name": "Python [conda env:532]",
   "language": "python",
   "name": "conda-env-532-py"
  },
  "language_info": {
   "codemirror_mode": {
    "name": "ipython",
    "version": 3
   },
   "file_extension": ".py",
   "mimetype": "text/x-python",
   "name": "python",
   "nbconvert_exporter": "python",
   "pygments_lexer": "ipython3",
   "version": "3.10.2"
  }
 },
 "nbformat": 4,
 "nbformat_minor": 5
}
